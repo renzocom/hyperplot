{
 "cells": [
  {
   "cell_type": "code",
   "execution_count": 1,
   "id": "c1847c7c-b41c-4d09-a519-666c92bbbbfa",
   "metadata": {},
   "outputs": [],
   "source": [
    "import xgi"
   ]
  },
  {
   "cell_type": "code",
   "execution_count": 4,
   "id": "8c5dc39d-f512-454d-9b1a-856064ee2704",
   "metadata": {},
   "outputs": [
    {
     "data": {
      "text/plain": [
       "<module 'xgi' (namespace)>"
      ]
     },
     "execution_count": 4,
     "metadata": {},
     "output_type": "execute_result"
    }
   ],
   "source": [
    "xgi"
   ]
  },
  {
   "cell_type": "code",
   "execution_count": null,
   "id": "9ad0450d-1961-4be5-b72c-fa28824e95e6",
   "metadata": {},
   "outputs": [],
   "source": [
    "DATASET_DIR = Path.cwd() / 'data'\n",
    "SAVE_DIR = Path.cwd() / 'figs'\n",
    "\n",
    "savefig = True\n",
    "datasets = ['eating', 'empathy']\n",
    "plots = ['polygons', 'two_rows', 'areas', 'planar']\n",
    "dataset = ['eating']\n",
    "plots = ['planar']\n",
    "\n",
    "for dataset in datasets:\n",
    "\n",
    "# LOAD DATA\n",
    "print(f'DATASET: {dataset.upper()}')\n",
    "print(8 * '=')\n",
    "if dataset=='eating':\n",
    "    fpath = DATASET_DIR / 'EatingDisorders.mat'\n",
    "    data = load_eating_dataset(fpath)\n",
    "\n",
    "elif dataset=='empathy':\n",
    "    fpath = DATASET_DIR / 'Briganti2017.mat'\n",
    "    data = load_empathy_dataset(fpath)\n",
    "else:\n",
    "    raise ValueError('Dataset not accepted.')\n",
    "\n",
    "# PLOT DATA\n",
    "if 'polygons' in plots:\n",
    "    plot_polygons(data, internode_dists=[1.6, None], show_nodelabels=True, **{'node_size':0.035})\n",
    "    plt.suptitle(f'{dataset.upper()} Dataset', fontsize=20)\n",
    "    if savefig:\n",
    "        plt.savefig(SAVE_DIR / f\"{dataset}_polygons.png\", dpi=300)\n",
    "\n",
    "if 'two_rows' in plots:\n",
    "    plot_two_rows(data, column_spacing=2.5, nodesize=0.11, subplot_width=20, subplot_height=4)\n",
    "    plt.suptitle(f'{dataset.upper()} Dataset', fontsize=20)\n",
    "    plt.subplots_adjust(top=0.9)\n",
    "    if savefig:\n",
    "        plt.savefig(SAVE_DIR / f\"{dataset}_two-rows.png\", dpi=300)\n",
    "\n",
    "if 'areas' in plots:\n",
    "    plot_areas(data)\n",
    "    plt.suptitle(f\"{dataset.upper()} Dataset\", fontsize=20)\n",
    "    if savefig:\n",
    "        plt.savefig(SAVE_DIR / f\"{dataset}_areas.png\", dpi=300)\n",
    "\n",
    "if 'planar' in plots:\n",
    "    plot_planar(data)\n",
    "    plt.suptitle(f'{dataset.upper()} Dataset', fontsize=20)\n",
    "    if savefig:\n",
    "        plt.savefig(SAVE_DIR / f\"{dataset}_planar.png\", dpi=300)\n"
   ]
  }
 ],
 "metadata": {
  "kernelspec": {
   "display_name": "Python 3",
   "language": "python",
   "name": "python3"
  },
  "language_info": {
   "codemirror_mode": {
    "name": "ipython",
    "version": 3
   },
   "file_extension": ".py",
   "mimetype": "text/x-python",
   "name": "python",
   "nbconvert_exporter": "python",
   "pygments_lexer": "ipython3",
   "version": "3.7.10"
  }
 },
 "nbformat": 4,
 "nbformat_minor": 5
}
